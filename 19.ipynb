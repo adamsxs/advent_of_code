{
 "cells": [
  {
   "cell_type": "code",
   "execution_count": 6,
   "id": "eca8e797",
   "metadata": {},
   "outputs": [],
   "source": [
    "import pandas as pd\n",
    "import numpy as np\n",
    "import re"
   ]
  },
  {
   "cell_type": "code",
   "execution_count": 5,
   "id": "8f6c0b91",
   "metadata": {},
   "outputs": [
    {
     "data": {
      "text/plain": [
       "['Blueprint 1: Each ore robot costs 4 ore. Each clay robot costs 4 ore. Each obsidian robot costs 2 ore and 11 clay. Each geode robot costs 4 ore and 8 obsidian.',\n",
       " 'Blueprint 2: Each ore robot costs 4 ore. Each clay robot costs 4 ore. Each obsidian robot costs 2 ore and 16 clay. Each geode robot costs 4 ore and 16 obsidian.',\n",
       " 'Blueprint 3: Each ore robot costs 3 ore. Each clay robot costs 4 ore. Each obsidian robot costs 4 ore and 18 clay. Each geode robot costs 2 ore and 11 obsidian.',\n",
       " 'Blueprint 4: Each ore robot costs 2 ore. Each clay robot costs 2 ore. Each obsidian robot costs 2 ore and 17 clay. Each geode robot costs 2 ore and 10 obsidian.',\n",
       " 'Blueprint 5: Each ore robot costs 4 ore. Each clay robot costs 3 ore. Each obsidian robot costs 2 ore and 10 clay. Each geode robot costs 4 ore and 10 obsidian.',\n",
       " 'Blueprint 6: Each ore robot costs 2 ore. Each clay robot costs 3 ore. Each obsidian robot costs 3 ore and 8 clay. Each geode robot costs 3 ore and 20 obsidian.',\n",
       " 'Blueprint 7: Each ore robot costs 3 ore. Each clay robot costs 3 ore. Each obsidian robot costs 2 ore and 20 clay. Each geode robot costs 2 ore and 20 obsidian.',\n",
       " 'Blueprint 8: Each ore robot costs 3 ore. Each clay robot costs 4 ore. Each obsidian robot costs 3 ore and 6 clay. Each geode robot costs 2 ore and 10 obsidian.',\n",
       " 'Blueprint 9: Each ore robot costs 3 ore. Each clay robot costs 4 ore. Each obsidian robot costs 4 ore and 6 clay. Each geode robot costs 3 ore and 16 obsidian.',\n",
       " 'Blueprint 10: Each ore robot costs 4 ore. Each clay robot costs 3 ore. Each obsidian robot costs 4 ore and 20 clay. Each geode robot costs 2 ore and 15 obsidian.',\n",
       " 'Blueprint 11: Each ore robot costs 3 ore. Each clay robot costs 3 ore. Each obsidian robot costs 3 ore and 9 clay. Each geode robot costs 3 ore and 7 obsidian.',\n",
       " 'Blueprint 12: Each ore robot costs 4 ore. Each clay robot costs 3 ore. Each obsidian robot costs 2 ore and 19 clay. Each geode robot costs 3 ore and 13 obsidian.',\n",
       " 'Blueprint 13: Each ore robot costs 2 ore. Each clay robot costs 3 ore. Each obsidian robot costs 2 ore and 14 clay. Each geode robot costs 3 ore and 8 obsidian.',\n",
       " 'Blueprint 14: Each ore robot costs 4 ore. Each clay robot costs 4 ore. Each obsidian robot costs 4 ore and 12 clay. Each geode robot costs 4 ore and 19 obsidian.',\n",
       " 'Blueprint 15: Each ore robot costs 4 ore. Each clay robot costs 4 ore. Each obsidian robot costs 4 ore and 10 clay. Each geode robot costs 2 ore and 7 obsidian.',\n",
       " 'Blueprint 16: Each ore robot costs 3 ore. Each clay robot costs 4 ore. Each obsidian robot costs 4 ore and 20 clay. Each geode robot costs 4 ore and 16 obsidian.',\n",
       " 'Blueprint 17: Each ore robot costs 4 ore. Each clay robot costs 4 ore. Each obsidian robot costs 3 ore and 14 clay. Each geode robot costs 4 ore and 8 obsidian.',\n",
       " 'Blueprint 18: Each ore robot costs 4 ore. Each clay robot costs 3 ore. Each obsidian robot costs 2 ore and 15 clay. Each geode robot costs 2 ore and 8 obsidian.',\n",
       " 'Blueprint 19: Each ore robot costs 3 ore. Each clay robot costs 4 ore. Each obsidian robot costs 2 ore and 11 clay. Each geode robot costs 2 ore and 10 obsidian.',\n",
       " 'Blueprint 20: Each ore robot costs 2 ore. Each clay robot costs 4 ore. Each obsidian robot costs 4 ore and 19 clay. Each geode robot costs 2 ore and 18 obsidian.',\n",
       " 'Blueprint 21: Each ore robot costs 3 ore. Each clay robot costs 3 ore. Each obsidian robot costs 3 ore and 16 clay. Each geode robot costs 3 ore and 9 obsidian.',\n",
       " 'Blueprint 22: Each ore robot costs 3 ore. Each clay robot costs 4 ore. Each obsidian robot costs 4 ore and 6 clay. Each geode robot costs 2 ore and 20 obsidian.',\n",
       " 'Blueprint 23: Each ore robot costs 4 ore. Each clay robot costs 3 ore. Each obsidian robot costs 2 ore and 14 clay. Each geode robot costs 4 ore and 11 obsidian.',\n",
       " 'Blueprint 24: Each ore robot costs 4 ore. Each clay robot costs 4 ore. Each obsidian robot costs 4 ore and 16 clay. Each geode robot costs 2 ore and 15 obsidian.',\n",
       " 'Blueprint 25: Each ore robot costs 4 ore. Each clay robot costs 3 ore. Each obsidian robot costs 2 ore and 19 clay. Each geode robot costs 3 ore and 10 obsidian.',\n",
       " 'Blueprint 26: Each ore robot costs 3 ore. Each clay robot costs 4 ore. Each obsidian robot costs 3 ore and 15 clay. Each geode robot costs 3 ore and 20 obsidian.',\n",
       " 'Blueprint 27: Each ore robot costs 4 ore. Each clay robot costs 4 ore. Each obsidian robot costs 2 ore and 15 clay. Each geode robot costs 3 ore and 16 obsidian.',\n",
       " 'Blueprint 28: Each ore robot costs 4 ore. Each clay robot costs 3 ore. Each obsidian robot costs 3 ore and 7 clay. Each geode robot costs 2 ore and 7 obsidian.',\n",
       " 'Blueprint 29: Each ore robot costs 2 ore. Each clay robot costs 4 ore. Each obsidian robot costs 4 ore and 20 clay. Each geode robot costs 4 ore and 18 obsidian.',\n",
       " 'Blueprint 30: Each ore robot costs 4 ore. Each clay robot costs 3 ore. Each obsidian robot costs 2 ore and 5 clay. Each geode robot costs 2 ore and 10 obsidian.',\n",
       " '']"
      ]
     },
     "execution_count": 5,
     "metadata": {},
     "output_type": "execute_result"
    }
   ],
   "source": [
    "blueprints = [line.strip() for line in open('19input.txt')]\n",
    "blueprints"
   ]
  },
  {
   "cell_type": "code",
   "execution_count": 26,
   "id": "e115799f",
   "metadata": {},
   "outputs": [
    {
     "data": {
      "text/plain": [
       "[['1', '4', '4', '2', '11', '4', '8'],\n",
       " ['2', '4', '4', '2', '16', '4', '16'],\n",
       " ['3', '3', '4', '4', '18', '2', '11'],\n",
       " ['4', '2', '2', '2', '17', '2', '10'],\n",
       " ['5', '4', '3', '2', '10', '4', '10'],\n",
       " ['6', '2', '3', '3', '8', '3', '20'],\n",
       " ['7', '3', '3', '2', '20', '2', '20'],\n",
       " ['8', '3', '4', '3', '6', '2', '10'],\n",
       " ['9', '3', '4', '4', '6', '3', '16'],\n",
       " ['10', '4', '3', '4', '20', '2', '15'],\n",
       " ['11', '3', '3', '3', '9', '3', '7'],\n",
       " ['12', '4', '3', '2', '19', '3', '13'],\n",
       " ['13', '2', '3', '2', '14', '3', '8'],\n",
       " ['14', '4', '4', '4', '12', '4', '19'],\n",
       " ['15', '4', '4', '4', '10', '2', '7'],\n",
       " ['16', '3', '4', '4', '20', '4', '16'],\n",
       " ['17', '4', '4', '3', '14', '4', '8'],\n",
       " ['18', '4', '3', '2', '15', '2', '8'],\n",
       " ['19', '3', '4', '2', '11', '2', '10'],\n",
       " ['20', '2', '4', '4', '19', '2', '18'],\n",
       " ['21', '3', '3', '3', '16', '3', '9'],\n",
       " ['22', '3', '4', '4', '6', '2', '20'],\n",
       " ['23', '4', '3', '2', '14', '4', '11'],\n",
       " ['24', '4', '4', '4', '16', '2', '15'],\n",
       " ['25', '4', '3', '2', '19', '3', '10'],\n",
       " ['26', '3', '4', '3', '15', '3', '20'],\n",
       " ['27', '4', '4', '2', '15', '3', '16'],\n",
       " ['28', '4', '3', '3', '7', '2', '7'],\n",
       " ['29', '2', '4', '4', '20', '4', '18'],\n",
       " ['30', '4', '3', '2', '5', '2', '10'],\n",
       " []]"
      ]
     },
     "execution_count": 26,
     "metadata": {},
     "output_type": "execute_result"
    }
   ],
   "source": [
    "robot_costs = [re.findall('\\d+', line) for line in blueprints]\n",
    "robot_costs\n",
    "\n",
    "ore, clay, obsidian[0], obsidian[1], geode[0], geode[1] = re.findall('\\d+', line)"
   ]
  },
  {
   "cell_type": "code",
   "execution_count": 28,
   "id": "e5f5f249",
   "metadata": {},
   "outputs": [],
   "source": [
    "##\n",
    "# classes\n",
    "##\n",
    "ALLOWED_NAMES = [\"obsidian\", \"ore\", \"clay\", \"geode\"]\n",
    "\n",
    "class Resource:\n",
    "    def __init__(self, name: str):\n",
    "        self.name = name\n",
    "\n",
    "class Robot:\n",
    "    def __init__(self, name, ore, clay, obsidian):\n",
    "        self.name = name\n",
    "        self.ore_cost = ore\n",
    "        self.clay_cost = clay\n",
    "        self.obsidian_cost = obsidian\n",
    "        \n",
    "    def produce(self) -> Resource:\n",
    "        return Resource(self.name) \n",
    "\n",
    "class Blueprint():\n",
    "    def __init__(self, line):\n",
    "        bp_id, ore_robot_ores, clay_robot_ores, obsidian_[0], obsidian[1], geode[0], geode[1] = re.findall('\\d+', line)"
   ]
  },
  {
   "cell_type": "code",
   "execution_count": 39,
   "id": "e91ef493",
   "metadata": {},
   "outputs": [
    {
     "data": {
      "text/plain": [
       "'ore'"
      ]
     },
     "execution_count": 39,
     "metadata": {},
     "output_type": "execute_result"
    }
   ],
   "source": [
    "robot = Robot(\"ore\", 1, 2, 3)\n",
    "robot.produce().name"
   ]
  },
  {
   "cell_type": "code",
   "execution_count": null,
   "id": "5cb15973",
   "metadata": {},
   "outputs": [],
   "source": []
  },
  {
   "cell_type": "code",
   "execution_count": null,
   "id": "a70070f2",
   "metadata": {},
   "outputs": [],
   "source": []
  },
  {
   "cell_type": "code",
   "execution_count": null,
   "id": "5da9af72",
   "metadata": {},
   "outputs": [],
   "source": []
  },
  {
   "cell_type": "code",
   "execution_count": null,
   "id": "831c0711",
   "metadata": {},
   "outputs": [],
   "source": []
  },
  {
   "cell_type": "code",
   "execution_count": null,
   "id": "09b1f7f4",
   "metadata": {},
   "outputs": [],
   "source": []
  },
  {
   "cell_type": "code",
   "execution_count": null,
   "id": "fc0889b4",
   "metadata": {},
   "outputs": [],
   "source": []
  },
  {
   "cell_type": "code",
   "execution_count": null,
   "id": "ebaf8b05",
   "metadata": {},
   "outputs": [],
   "source": []
  },
  {
   "cell_type": "code",
   "execution_count": null,
   "id": "6374139e",
   "metadata": {},
   "outputs": [],
   "source": []
  }
 ],
 "metadata": {
  "kernelspec": {
   "display_name": "Python 3 (ipykernel)",
   "language": "python",
   "name": "python3"
  },
  "language_info": {
   "codemirror_mode": {
    "name": "ipython",
    "version": 3
   },
   "file_extension": ".py",
   "mimetype": "text/x-python",
   "name": "python",
   "nbconvert_exporter": "python",
   "pygments_lexer": "ipython3",
   "version": "3.9.7"
  }
 },
 "nbformat": 4,
 "nbformat_minor": 5
}
